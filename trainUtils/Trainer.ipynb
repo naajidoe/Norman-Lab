{
 "cells": [
  {
   "cell_type": "code",
   "execution_count": null,
   "metadata": {},
   "outputs": [],
   "source": [
    "# trains\n",
    "def train_network(epoch, optimizer, criterion, sheduler):\n",
    "    # Train network\n",
    "    mean_losses = []\n",
    "    for epoch in range(epochs):\n",
    "        losses = []\n",
    "        for data in inputs:  # data is the inputs and target is correct outputs, don't need to flatten data in this case\n",
    "            optimizer.zero_grad()  # clears the gradient buffer (i.e. sets all the gradients to 0 for each step/batch)\n",
    "\n",
    "            # forward propagation\n",
    "            output = net(data)  # set the prediction/outputs equal to the batch size\n",
    "            # passes entire set of inputs through the network\n",
    "            loss = criterion.forward(output, targets)  # forward propagates the loss/error\n",
    "            losses.append(loss)\n",
    "\n",
    "            # backpropagation\n",
    "            loss.backward()  # backpropagates the loss/error\n",
    "\n",
    "            # gradient descent/adam step\n",
    "            optimizer.step()  # causes the optimizer to take a step and update weights based on the gradients of the parameters\n",
    "\n",
    "        mean_loss = sum(losses) / len(losses)  # calculates mean loss for epoch\n",
    "        mean_losses.append(mean_loss)\n",
    "        # sheduler.step(mean_loss)\n",
    "        if epoch in [0, epochs/4, epochs/2, 3*epochs/4, epochs-1]:\n",
    "          print(f'Cost at epoch {epoch} is {mean_loss}')"
   ]
  }
 ],
 "metadata": {
  "kernelspec": {
   "display_name": "Python 3",
   "language": "python",
   "name": "python3"
  },
  "language_info": {
   "codemirror_mode": {
    "name": "ipython",
    "version": 3
   },
   "file_extension": ".py",
   "mimetype": "text/x-python",
   "name": "python",
   "nbconvert_exporter": "python",
   "pygments_lexer": "ipython3",
   "version": "3.8.5"
  }
 },
 "nbformat": 4,
 "nbformat_minor": 4
}
