{
 "cells": [
  {
   "cell_type": "code",
   "execution_count": null,
   "metadata": {
    "id": "XlbvqDezSpNL"
   },
   "outputs": [],
   "source": [
    "import torch\n",
    "import random\n",
    "import numpy as np  # numpy\n",
    "import torch.nn as nn  # nn objects\n",
    "import torch.optim as optim  # nn optimizers\n",
    "import matplotlib.pyplot as plt\n",
    "\n",
    "# Set device to gpu if possible\n",
    "device = torch.device('cuda' if torch.cuda.is_available() else 'cpu')\n",
    "\n",
    "\"\"\"\n",
    "Generates a data sample (i.e. matrix) filled with n (n = seqlen1 + seqlen2 + 2) \n",
    "vectors of size input_size. The sample contains 2 non-distraction vectors (i.e. \n",
    "\"input vectors\") located at input1_location and input2_location and the rest of\n",
    "the sample contains \"distraction vectors\" (i.e. random vectors filled with\n",
    "numbers between 0 and 1) located everywhere else. Depending on the sequence\n",
    "type, the generated sample will have equivalent or different non-distraction\n",
    "vectors\n",
    "\"\"\"\n",
    "def generate_sample(sequence_type, input_size, seqlen1, seqlen2, seqlen3):\n",
    "    sequence_length = 2 + seqlen1 + seqlen2 + seqlen3\n",
    "    X_sample = torch.zeros(sequence_length, input_size)\n",
    "    Y_sample = 0\n",
    "    X0 = torch.tensor(np.eye(input_size)[0])\n",
    "    X1 = torch.tensor(np.eye(input_size)[1])\n",
    "\n",
    "    # input vectors\n",
    "    if sequence_type == 0:\n",
    "        X_sample[seqlen1] = X0\n",
    "        X_sample[seqlen1 + seqlen2 + 1] = X0\n",
    "        Y_sample = [0]\n",
    "    if sequence_type == 1:\n",
    "        X_sample[seqlen1] = X0\n",
    "        X_sample[seqlen1 + seqlen2 + 1] = X1\n",
    "        Y_sample = [1]\n",
    "    if sequence_type == 2:\n",
    "        X_sample[seqlen1] = X1\n",
    "        X_sample[seqlen1 + seqlen2 + 1] = X1\n",
    "        Y_sample = [0]\n",
    "    if sequence_type == 3:\n",
    "        X_sample[seqlen1] = X1\n",
    "        X_sample[seqlen1 + seqlen2 + 1] = X0\n",
    "        Y_sample = [1]\n",
    "\n",
    "    # distraction vectors\n",
    "    for i in range(sequence_length):\n",
    "        if i != seqlen1 and i != (seqlen1 + seqlen2 + 1):\n",
    "            X_sample[i] = torch.rand(input_size)\n",
    "\n",
    "    return X_sample, Y_sample\n",
    "\n",
    "\"\"\"\n",
    "Generates a dataset of 4 different versions of the XOR problem based on the\n",
    "matricies made with the generate_sample function. This dataset will contain\n",
    "the equivalent of matricies corresponding to the [0, 0, 0], [0, 1, 1], \n",
    "[1, 1, 0], and [1, 0, 1] examples of the XOR problem in that order\n",
    "\"\"\"\n",
    "def generate_dataset(same_distractions, input_size, seqlen1, seqlen2, seqlen3):\n",
    "    sequence_length = 2 + seqlen1 + seqlen2 + seqlen3\n",
    "    dataset = torch.zeros(4, sequence_length, input_size)\n",
    "    dataset[0], YA = generate_sample(0, input_size, seqlen1, seqlen2, seqlen3)\n",
    "    dataset[1], YB = generate_sample(1, input_size, seqlen1, seqlen2, seqlen3)\n",
    "    dataset[2], YA = generate_sample(2, input_size, seqlen1, seqlen2, seqlen3)\n",
    "    dataset[3], YB = generate_sample(3, input_size, seqlen1, seqlen2, seqlen3)\n",
    "\n",
    "    # when true sets all dataset samples to the have same distraction vectors\n",
    "    if same_distractions:\n",
    "        for i in range(sequence_length):\n",
    "            if i != seqlen1 and i != (seqlen1 + seqlen2 + 1):\n",
    "                dataset[1][i] = dataset[0][i]\n",
    "                dataset[2][i] = dataset[0][i]\n",
    "                dataset[3][i] = dataset[0][i]\n",
    "\n",
    "    targets = torch.tensor([YA, YB, YA, YB])\n",
    "    return dataset, targets"
   ]
  },
  {
   "cell_type": "code",
   "execution_count": null,
   "metadata": {
    "id": "UdykkAWRqY4Y"
   },
   "outputs": [],
   "source": [
    "# NN model and forward method\n",
    "class RecurrentXORNet(nn.Module):\n",
    "    def __init__(self, input_size, hidden_size, num_layers,\n",
    "                 num_classes):  # define fc/reccurent layers\n",
    "        super().__init__()  # initializes superclass (nn.Module)\n",
    "        self.input_size = input_size\n",
    "        self.hidden_size = hidden_size\n",
    "        self.num_classes = num_classes\n",
    "        self.num_layers = num_layers\n",
    "        self.rnn = nn.RNN(input_size, hidden_size, num_layers, batch_first=True)\n",
    "        self.fc = nn.Linear(hidden_size, num_classes)  # fc output lyaer\n",
    "        # input must have the sahpe: batch_size, sequence_length, input_size\n",
    "\n",
    "    def forward(self, x): \n",
    "        h0 = torch.zeros(self.num_layers, batch_size, \n",
    "                         self.hidden_size).to(device)\n",
    "        out, _ = self.rnn(x, h0)  # first, x passes through the recurrent layer\n",
    "        out = out[:, -1, :]  # only last layer of the RNN\n",
    "        out = self.fc(out)  # passes last RNN layer to fc output layer\n",
    "        return out\n",
    "\n",
    "# Trains the NN model and tests a random sample if the first argument is true\n",
    "def train_network(should_test, same_distractions, input_size, seqlen1, seqlen2,\n",
    "                  seqlen3):\n",
    "    \n",
    "    # Load Data (XOR information)\n",
    "    sequence_length = 2 + seqlen1 + seqlen2 + seqlen3\n",
    "    dataset, targets = generate_dataset(same_distractions, input_size, seqlen1, \n",
    "                                        seqlen2, seqlen3)\n",
    "\n",
    "    # Initialize network and our model\n",
    "    net = RecurrentXORNet(input_size, hidden_size, num_layers, \n",
    "                          num_classes).to(device)\n",
    "\n",
    "    criterion = nn.CrossEntropyLoss()  # loss function\n",
    "    optimizer = optim.Adam(net.parameters(), eta)  # optimizer\n",
    "    # sheduler = optim.lr_scheduler.ReduceLROnPlateau(optimizer, patience=5, \n",
    "    #                                               verbose=True)  # variable lr\n",
    "\n",
    "    # Train network - trains on each sample in the dataset\n",
    "    mean_losses = []\n",
    "    for epoch in range(epochs):\n",
    "        losses = []\n",
    "\n",
    "        for sample, target in zip(dataset, targets):\n",
    "            optimizer.zero_grad() \n",
    "            sample = sample.view(batch_size, sequence_length, input_size)\n",
    "\n",
    "            # forward propagation\n",
    "            output = net(sample)  # pass each sample into the network\n",
    "            loss = criterion.forward(output, target)  # forward propagates loss\n",
    "            losses.append(loss)\n",
    "\n",
    "            # backpropagation\n",
    "            loss.backward()  # backpropagates the loss\n",
    "\n",
    "            # gradient descent/adam step\n",
    "            optimizer.step()\n",
    "\n",
    "        mean_loss = sum(losses) / len(losses)  # calculates mean loss for epoch\n",
    "        mean_losses.append(mean_loss)\n",
    "        # sheduler.step(mean_loss)\n",
    "        if epoch in [0, epochs/4, epochs/2, 3*epochs/4, epochs-1]:\n",
    "          print(f'Cost at epoch {epoch} is {mean_loss}')\n",
    "\n",
    "    if should_test:\n",
    "      test_network(random.randint(0, 3), dataset, targets, net, seqlen1, \n",
    "                   seqlen2, seqlen3)\n",
    "    \n",
    "    print(\"\\n\")\n",
    "    return mean_losses\n",
    "\n",
    "# Tests rounded network outputs against correct network outputs based on sample\n",
    "def test_network(sample_number, dataset, targets, network, seqlen1, seqlen2,\n",
    "                  seqlen3):\n",
    "    # Test network\n",
    "    test_sample = sample_number\n",
    "    sequence_length = 2 + seqlen1 + seqlen2 + seqlen3\n",
    "    test_data = dataset[test_sample].view(batch_size, sequence_length, \n",
    "                                          input_size)\n",
    "    test_targets = torch.tensor([0.0, 0.0])\n",
    "    if targets[test_sample] != 0:\n",
    "        test_targets = torch.tensor([1.0, 0.0])\n",
    "    else:\n",
    "        test_targets = torch.tensor([0.0, 1.0])\n",
    "    test = network(test_data)\n",
    "    test = torch.softmax(test, dim=1)\n",
    "\n",
    "    print(\"\\n\")\n",
    "    print(\"Test of network: \")\n",
    "    print(\"input is {}\".format(test_data.detach().numpy()))\n",
    "    print('out is {}'.format(torch.round(test).detach().numpy()))\n",
    "    print('expected out is {}'.format(test_targets.detach().numpy()))\n",
    "\n",
    "# Compares and plots the loss of four different networks (for testing)\n",
    "def plot_four_losses(title, loss1, loss2, loss3, loss4):\n",
    "    # Plot mean losses\n",
    "    # plt.figure()\n",
    "    plt.suptitle(title)\n",
    "    plt.plot(loss1, color='red')\n",
    "    plt.plot(loss2, color='blue')\n",
    "    plt.plot(loss3, color='orange')\n",
    "    plt.plot(loss4, color='green')\n",
    "    plt.xlabel('epoch')\n",
    "    plt.ylabel('mean loss')"
   ]
  },
  {
   "cell_type": "code",
   "execution_count": null,
   "metadata": {
    "id": "9Dt9pWM0Z8mz"
   },
   "outputs": [],
   "source": [
    "# dataset_1, targets_1 = generate_dataset(True, 5, 0, 0, 3)\n",
    "# dataset_2, targets_2 = generate_dataset(False, 5, 3, 0, 0)\n",
    "# print(dataset_1)\n",
    "# print(targets_1)\n",
    "# print(dataset_2)\n",
    "# print(targets_2)"
   ]
  },
  {
   "cell_type": "code",
   "execution_count": null,
   "metadata": {
    "id": "KZ-H3N1kYaxr"
   },
   "outputs": [],
   "source": [
    "# Hyperparameters\n",
    "input_size = 5\n",
    "num_classes = 2  # the number of units in the output layer\n",
    "hidden_size = 10  # the number of units in the recurrent layer\n",
    "batch_size = 1  # batch size = # of samples to average when computing gradient\n",
    "num_layers = 1  # number of stacked RNN layers\n",
    "eta = 0.001  # learning rate\n",
    "epochs = 500  # epochs = # of full pases through dataset"
   ]
  },
  {
   "cell_type": "code",
   "execution_count": null,
   "metadata": {
    "colab": {
     "base_uri": "https://localhost:8080/",
     "height": 959
    },
    "id": "MRwdSttHUsGN",
    "outputId": "c29dc3ca-efbf-4038-bcd3-9408ec34594f"
   },
   "outputs": [
    {
     "name": "stdout",
     "output_type": "stream",
     "text": [
      "First network: \n",
      "\n",
      "Cost at epoch 0 is 0.6856371164321899\n",
      "Cost at epoch 125 is 0.07034328579902649\n",
      "Cost at epoch 250 is 0.007647574879229069\n",
      "Cost at epoch 375 is 0.003355794120579958\n",
      "Cost at epoch 499 is 0.0019092073198407888\n",
      "\n",
      "\n",
      "Second network: \n",
      "\n",
      "Cost at epoch 0 is 0.7023794651031494\n",
      "Cost at epoch 125 is 0.03000039793550968\n",
      "Cost at epoch 250 is 0.007108619436621666\n",
      "Cost at epoch 375 is 0.0032855267636477947\n",
      "Cost at epoch 499 is 0.0018882727017626166\n",
      "\n",
      "\n",
      "Third network: \n",
      "\n",
      "Cost at epoch 0 is 0.7136344313621521\n",
      "Cost at epoch 125 is 0.059424325823783875\n",
      "Cost at epoch 250 is 0.012164166197180748\n",
      "Cost at epoch 375 is 0.005023235455155373\n",
      "Cost at epoch 499 is 0.0027036305982619524\n",
      "\n",
      "\n",
      "Fourth network: \n",
      "\n",
      "Cost at epoch 0 is 0.7596641778945923\n",
      "Cost at epoch 125 is 0.03273627907037735\n",
      "Cost at epoch 250 is 0.006214011460542679\n",
      "Cost at epoch 375 is 0.002620998304337263\n",
      "Cost at epoch 499 is 0.001439484884031117\n",
      "\n",
      "\n"
     ]
    },
    {
     "data": {
      "text/plain": [
       "<matplotlib.legend.Legend at 0x7f6060102a90>"
      ]
     },
     "execution_count": 14,
     "metadata": {
      "tags": []
     },
     "output_type": "execute_result"
    },
    {
     "data": {
      "image/png": "[encoded data removed]",
      "text/plain": [
       "<Figure size 432x288 with 1 Axes>"
      ]
     },
     "metadata": {
      "needs_background": "light",
      "tags": []
     },
     "output_type": "display_data"
    }
   ],
   "source": [
    "# Testing effect of position on network loss\n",
    "print(\"First network: \\n\")  # inputs placed in the beginning\n",
    "loss1 = train_network(False, False, input_size, 0, 0, 10)  \n",
    "print(\"Second network: \\n\")  # inputs placed in the end\n",
    "loss2 = train_network(False, False, input_size, 10, 0, 0)  \n",
    "print(\"Third network: \\n\")  # inputs placed in the beginning and middle\n",
    "loss3 = train_network(False, False, input_size, 0, 5, 5)  \n",
    "print(\"Fourth network: \\n\")  # inputs placed directly in the middle\n",
    "loss4 = train_network(False, False, input_size, 5, 0, 5)  \n",
    "\n",
    "plot_four_losses(\"Effect of position on network loss\", \n",
    "                 loss1, loss2, loss3, loss4)\n",
    "plt.legend([\"Inputs at beginning\", \"Inputs at end\", \"Inputs at beginning/middle\", \"Inputs at middle\"])"
   ]
  },
  {
   "cell_type": "code",
   "execution_count": null,
   "metadata": {
    "colab": {
     "base_uri": "https://localhost:8080/",
     "height": 959
    },
    "id": "3h-RZx_PSEbz",
    "outputId": "a3485aae-f302-40f8-d625-9267885c61c5"
   },
   "outputs": [
    {
     "name": "stdout",
     "output_type": "stream",
     "text": [
      "First network: \n",
      "\n",
      "Cost at epoch 0 is 0.7036011219024658\n",
      "Cost at epoch 125 is 0.024574778974056244\n",
      "Cost at epoch 250 is 0.005510986782610416\n",
      "Cost at epoch 375 is 0.002506744582206011\n",
      "Cost at epoch 499 is 0.0014124441659078002\n",
      "\n",
      "\n",
      "Second network: \n",
      "\n",
      "Cost at epoch 0 is 0.7818551063537598\n",
      "Cost at epoch 125 is 0.04227691516280174\n",
      "Cost at epoch 250 is 0.009580728597939014\n",
      "Cost at epoch 375 is 0.0043479749001562595\n",
      "Cost at epoch 499 is 0.002447813982143998\n",
      "\n",
      "\n",
      "Third network: \n",
      "\n",
      "Cost at epoch 0 is 0.712956964969635\n",
      "Cost at epoch 125 is 0.036017876118421555\n",
      "Cost at epoch 250 is 0.009124208241701126\n",
      "Cost at epoch 375 is 0.004210279788821936\n",
      "Cost at epoch 499 is 0.0023718380834907293\n",
      "\n",
      "\n",
      "Fourth network: \n",
      "\n",
      "Cost at epoch 0 is 0.7182016968727112\n",
      "Cost at epoch 125 is 0.052066199481487274\n",
      "Cost at epoch 250 is 0.008841072209179401\n",
      "Cost at epoch 375 is 0.003769848495721817\n",
      "Cost at epoch 499 is 0.002070714719593525\n",
      "\n",
      "\n"
     ]
    },
    {
     "data": {
      "text/plain": [
       "<matplotlib.legend.Legend at 0x7f6012be0198>"
      ]
     },
     "execution_count": 11,
     "metadata": {
      "tags": []
     },
     "output_type": "execute_result"
    },
    {
     "data": {
      "image/png": "[encoded data removed]",
      "text/plain": [
       "<Figure size 432x288 with 1 Axes>"
      ]
     },
     "metadata": {
      "needs_background": "light",
      "tags": []
     },
     "output_type": "display_data"
    }
   ],
   "source": [
    "# Testing the effect of sample length on network loss\n",
    "print(\"First network: \\n\")  # smallest\n",
    "loss5 = train_network(False, False, input_size, 1, 2, 3)  \n",
    "print(\"Second network: \\n\")  # bigger\n",
    "loss6 = train_network(False, False, input_size, 10, 15, 20)  \n",
    "print(\"Third network: \\n\")  # even bigger\n",
    "loss7 = train_network(False, False, input_size, 25, 50, 100)  \n",
    "print(\"Fourth network: \\n\")  # largest\n",
    "loss8 = train_network(False, False, input_size, 50, 100, 200)  \n",
    "\n",
    "plot_four_losses(\"Effect of sequence length on network loss\", \n",
    "                 loss5, loss6, loss7, loss8)\n",
    "plt.legend([\"Smallest length\", \"Small length\", \"Large Length\", \"Largest Length\"])"
   ]
  },
  {
   "cell_type": "code",
   "execution_count": null,
   "metadata": {
    "colab": {
     "base_uri": "https://localhost:8080/",
     "height": 959
    },
    "id": "3xS9W6Vbq9k6",
    "outputId": "156c332b-fd91-4c8c-a27a-6c614bf80dca"
   },
   "outputs": [
    {
     "name": "stdout",
     "output_type": "stream",
     "text": [
      "First network: \n",
      "\n",
      "Cost at epoch 0 is 0.6930080056190491\n",
      "Cost at epoch 125 is 0.031836189329624176\n",
      "Cost at epoch 250 is 0.008736425079405308\n",
      "Cost at epoch 375 is 0.0038683947641402483\n",
      "Cost at epoch 499 is 0.0021262727677822113\n",
      "\n",
      "\n",
      "Second network: \n",
      "\n",
      "Cost at epoch 0 is 0.6880412697792053\n",
      "Cost at epoch 125 is 0.05889465659856796\n",
      "Cost at epoch 250 is 0.009881204925477505\n",
      "Cost at epoch 375 is 0.003948944620788097\n",
      "Cost at epoch 499 is 0.002081648912280798\n",
      "\n",
      "\n",
      "Third network: \n",
      "\n",
      "Cost at epoch 0 is 0.6987992525100708\n",
      "Cost at epoch 125 is 0.03008095920085907\n",
      "Cost at epoch 250 is 0.007241261191666126\n",
      "Cost at epoch 375 is 0.003247633343562484\n",
      "Cost at epoch 499 is 0.0018057883717119694\n",
      "\n",
      "\n",
      "Fourth network: \n",
      "\n",
      "Cost at epoch 0 is 0.6971030831336975\n",
      "Cost at epoch 125 is 0.06001216545701027\n",
      "Cost at epoch 250 is 0.013156529515981674\n",
      "Cost at epoch 375 is 0.005656954366713762\n",
      "Cost at epoch 499 is 0.0030967032071202993\n",
      "\n",
      "\n"
     ]
    },
    {
     "data": {
      "text/plain": [
       "<matplotlib.legend.Legend at 0x7f6013aa5b00>"
      ]
     },
     "execution_count": 10,
     "metadata": {
      "tags": []
     },
     "output_type": "execute_result"
    },
    {
     "data": {
      "image/png": "[encoded data removed]",
      "text/plain": [
       "<Figure size 432x288 with 1 Axes>"
      ]
     },
     "metadata": {
      "needs_background": "light",
      "tags": []
     },
     "output_type": "display_data"
    }
   ],
   "source": [
    "# Testing effect of distraction train size on network loss w sequence length 50\n",
    "print(\"First network: \\n\")  # smallest first train, large second train\n",
    "loss9 = train_network(False, False, input_size, 5, 45, 0)  \n",
    "print(\"Second network: \\n\")  # large first train, small second train\n",
    "loss10 = train_network(False, False, input_size, 45, 5, 0)  \n",
    "print(\"Third network: \\n\")  # evenly spaced trains\n",
    "loss11 = train_network(False, False, input_size, 25, 25, 0)  \n",
    "print(\"Fourth network: \\n\")  # large train in the middle\n",
    "loss12 = train_network(False, False, input_size, 0, 50, 0)  \n",
    "\n",
    "plot_four_losses(\"Effect of distraction train length on network loss\", \n",
    "                 loss9, loss10, loss11, loss12)\n",
    "plt.legend([\"Small train 1, large train 2\", \"Large train 1, small train 2\", \"Evenly spaced trains\", \"Large train in the middle\"])"
   ]
  },
  {
   "cell_type": "code",
   "execution_count": null,
   "metadata": {
    "id": "9qJhBaxvY5eF"
   },
   "outputs": [],
   "source": []
  }
 ],
 "metadata": {
  "colab": {
   "collapsed_sections": [],
   "name": "RNN Implementations",
   "provenance": []
  },
  "kernelspec": {
   "display_name": "Python 3",
   "language": "python",
   "name": "python3"
  },
  "language_info": {
   "codemirror_mode": {
    "name": "ipython",
    "version": 3
   },
   "file_extension": ".py",
   "mimetype": "text/x-python",
   "name": "python",
   "nbconvert_exporter": "python",
   "pygments_lexer": "ipython3",
   "version": "3.8.5"
  }
 },
 "nbformat": 4,
 "nbformat_minor": 1
}
