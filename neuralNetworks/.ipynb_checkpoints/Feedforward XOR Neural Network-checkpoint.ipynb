{
 "cells": [
  {
   "cell_type": "code",
   "execution_count": null,
   "metadata": {
    "id": "ubHuNYRuxn4m"
   },
   "outputs": [],
   "source": [
    "import torch\n",
    "import numpy as np\n",
    "import torch.nn as nn  # nn objects\n",
    "import torch.optim as optim  # nn optimizers\n",
    "import matplotlib.pyplot as plt\n",
    "\n",
    "# This class inherits from nn.Module and two methods that need to be implemented are the __init__ and forward methods\n",
    "# which will institate the class and create the various layers, activation functions, and initialize things\n",
    "\n",
    "class XORNet(nn.Module):\n",
    "    # input_size = # of attributes put into the input of the nn - creates first layer\n",
    "    # hidden_size = # nodes to have in the 1st hidden layer - too many leads to overfitting\n",
    "    # output_size = # number of neurons to have in the output layer\n",
    "    # need to add hidden layers because there is no linear seperability in single-layer perceptron network\n",
    "\n",
    "    def __init__(self, input_size, hidden_size, output_size):  # in this constructor method we'll define the fully connected layers\n",
    "        super().__init__()  # initializes superclass (nn.Module); could also use super(XORNet, self).__init__()\n",
    "        self.input_layer = nn.Linear(input_size, hidden_size)  # nn.Linear is used when you're doing a fc layers\n",
    "        self.hidden_layer = nn.Linear(hidden_size, output_size)  # nn = input -> hidden layer -> output\n",
    "\n",
    "    def forward(self, x):  # here we have a feedforward nn in which data (i.e. x) goes forward from input to output\n",
    "        x = torch.tanh(self.input_layer(x))  # first, x passes through input layer to hidden layer w/ sigmoid activ\n",
    "        x = self.hidden_layer(x)  # then, x passes through the hidden layer to output layer\n",
    "        return x\n",
    "\n",
    "\n",
    "# Set device to gpu if possible\n",
    "device = torch.device('cuda' if torch.cuda.is_available() else 'cpu')\n",
    "\n",
    "# Hyperparameters\n",
    "input_size, hidden_size, output_size, eta, epochs = 2, 2, 1, 0.001, 1000  # epochs = # of full pases through dataset\n",
    "\n",
    "# Load Data (XOR information)\n",
    "train_data = torch.tensor([[0, 0, 0], [0, 1, 1], [1, 0, 1], [1, 1, 0]], dtype=torch.float).to(device)\n",
    "inputs = train_data[:, :2]\n",
    "targets = torch.Tensor(train_data[:, 2].reshape(-1, 1)).to(device)"
   ]
  },
  {
   "cell_type": "code",
   "execution_count": 1,
   "metadata": {
    "colab": {
     "base_uri": "https://localhost:8080/",
     "height": 236
    },
    "executionInfo": {
     "elapsed": 498,
     "status": "error",
     "timestamp": 1610553682538,
     "user": {
      "displayName": "Naaji Hylton",
      "photoUrl": "https://lh3.googleusercontent.com/a-/AOh14GhoQQN738tSZKk6PrsDI2PEWEy4vqJh3skTDc-w=s64",
      "userId": "12865643465455480001"
     },
     "user_tz": 300
    },
    "id": "jx_SjuWVxyjX",
    "outputId": "848c68d4-98ba-4e0a-d1de-15947ec080f3"
   },
   "outputs": [
    {
     "ename": "NameError",
     "evalue": "ignored",
     "output_type": "error",
     "traceback": [
      "\u001b[0;31m---------------------------------------------------------------------------\u001b[0m",
      "\u001b[0;31mNameError\u001b[0m                                 Traceback (most recent call last)",
      "\u001b[0;32m<ipython-input-1-07d1a1c86f29>\u001b[0m in \u001b[0;36m<module>\u001b[0;34m()\u001b[0m\n\u001b[1;32m      1\u001b[0m \u001b[0;31m# Initialize network and our model\u001b[0m\u001b[0;34m\u001b[0m\u001b[0;34m\u001b[0m\u001b[0;34m\u001b[0m\u001b[0m\n\u001b[0;32m----> 2\u001b[0;31m \u001b[0mnet\u001b[0m \u001b[0;34m=\u001b[0m \u001b[0mXORNet\u001b[0m\u001b[0;34m(\u001b[0m\u001b[0minput_size\u001b[0m\u001b[0;34m,\u001b[0m \u001b[0mhidden_size\u001b[0m\u001b[0;34m,\u001b[0m \u001b[0moutput_size\u001b[0m\u001b[0;34m)\u001b[0m\u001b[0;34m.\u001b[0m\u001b[0mto\u001b[0m\u001b[0;34m(\u001b[0m\u001b[0mdevice\u001b[0m\u001b[0;34m)\u001b[0m\u001b[0;34m\u001b[0m\u001b[0;34m\u001b[0m\u001b[0m\n\u001b[0m\u001b[1;32m      3\u001b[0m \u001b[0;34m\u001b[0m\u001b[0m\n\u001b[1;32m      4\u001b[0m \u001b[0;31m# Loss function, optimizer, and schedule (for decaying learning rate)\u001b[0m\u001b[0;34m\u001b[0m\u001b[0;34m\u001b[0m\u001b[0;34m\u001b[0m\u001b[0m\n\u001b[1;32m      5\u001b[0m \u001b[0mcriterion\u001b[0m \u001b[0;34m=\u001b[0m \u001b[0mnn\u001b[0m\u001b[0;34m.\u001b[0m\u001b[0mMSELoss\u001b[0m\u001b[0;34m(\u001b[0m\u001b[0;34m)\u001b[0m  \u001b[0;31m# loss function\u001b[0m\u001b[0;34m\u001b[0m\u001b[0;34m\u001b[0m\u001b[0m\n",
      "\u001b[0;31mNameError\u001b[0m: name 'XORNet' is not defined"
     ]
    }
   ],
   "source": [
    "# Initialize network and our model\n",
    "net = XORNet(input_size, hidden_size, output_size).to(device)\n",
    "\n",
    "# Loss function, optimizer, and schedule (for decaying learning rate)\n",
    "criterion = nn.MSELoss()  # loss function\n",
    "optimizer = optim.Adam(net.parameters(), eta)  # tells optimizer to adjust all parameter weights with steps based on eta\n",
    "sheduler = optim.lr_scheduler.ReduceLROnPlateau(optimizer, patience=5, verbose=False) # lowers lr if the loss global min doesn't decrease for 5 epochs\n",
    "\n",
    "# Train network\n",
    "mean_losses = []\n",
    "for epoch in range(epochs):\n",
    "    losses = []\n",
    "    for data in inputs:  # data is the inputs and target is correct outputs, don't need to flatten data in this case\n",
    "        optimizer.zero_grad()  # clears the gradient buffer (i.e. sets all the gradients to 0 for each step/batch)\n",
    "        \n",
    "        # forward propagation\n",
    "        output = net(data)  # set the prediction/outputs equal to the batch size\n",
    "        # passes entire set of inputs through the network\n",
    "        loss = criterion.forward(output, targets)  # forward propagates the loss/error\n",
    "        losses.append(loss)\n",
    "\n",
    "        # backpropagation\n",
    "        loss.backward()  # backpropagates the loss/error\n",
    "\n",
    "        # gradient descent/adam step\n",
    "        optimizer.step()  # causes the optimizer to take a step and update weights based on the gradients of the parameters\n",
    "\n",
    "    mean_loss = sum(losses) / len(losses)  # calculates mean loss for a particular epoch\n",
    "    mean_losses.append(mean_loss)\n",
    "    sheduler.step(mean_loss) # (optional) print(f'Cost at epoch {epoch} is {mean_loss}')"
   ]
  },
  {
   "cell_type": "code",
   "execution_count": null,
   "metadata": {
    "colab": {
     "base_uri": "https://localhost:8080/",
     "height": 265
    },
    "executionInfo": {
     "elapsed": 711,
     "status": "ok",
     "timestamp": 1606495642630,
     "user": {
      "displayName": "Naaji Hylton",
      "photoUrl": "https://lh3.googleusercontent.com/a-/AOh14GhoQQN738tSZKk6PrsDI2PEWEy4vqJh3skTDc-w=s64",
      "userId": "12865643465455480001"
     },
     "user_tz": 300
    },
    "id": "wQ-xW6za5exm",
    "outputId": "a0367a39-0758-419f-c35a-437689e291ec"
   },
   "outputs": [
    {
     "data": {
      "image/png": "[encoded data removed]",
      "text/plain": [
       "<Figure size 432x288 with 1 Axes>"
      ]
     },
     "metadata": {
      "needs_background": "light",
      "tags": []
     },
     "output_type": "display_data"
    }
   ],
   "source": [
    "# Plot mean losses\n",
    "plt.figure(1)\n",
    "time = list(range(epochs))\n",
    "plt.plot(time, mean_losses)\n",
    "plt.show()"
   ]
  },
  {
   "cell_type": "code",
   "execution_count": null,
   "metadata": {
    "colab": {
     "base_uri": "https://localhost:8080/"
    },
    "executionInfo": {
     "elapsed": 445,
     "status": "ok",
     "timestamp": 1606495647221,
     "user": {
      "displayName": "Naaji Hylton",
      "photoUrl": "https://lh3.googleusercontent.com/a-/AOh14GhoQQN738tSZKk6PrsDI2PEWEy4vqJh3skTDc-w=s64",
      "userId": "12865643465455480001"
     },
     "user_tz": 300
    },
    "id": "TMmDJlLiyOdX",
    "outputId": "fd681fae-6a7b-4163-b346-35bba4802e2f"
   },
   "outputs": [
    {
     "name": "stdout",
     "output_type": "stream",
     "text": [
      "input is [[0. 0.]\n",
      " [0. 1.]\n",
      " [1. 0.]\n",
      " [1. 1.]]\n",
      "output is [[0.]\n",
      " [1.]\n",
      " [1.]\n",
      " [0.]]\n",
      "expected output is [[0.]\n",
      " [1.]\n",
      " [1.]\n",
      " [0.]]\n"
     ]
    }
   ],
   "source": [
    "# Test network\n",
    "test = net(inputs)\n",
    "print(\"input is {}\".format(inputs.detach().numpy()))\n",
    "print('output is {}'.format(torch.round(test).detach().numpy()))\n",
    "print('expected output is {}'.format(targets.detach().numpy()))"
   ]
  },
  {
   "cell_type": "code",
   "execution_count": null,
   "metadata": {
    "colab": {
     "base_uri": "https://localhost:8080/",
     "height": 265
    },
    "executionInfo": {
     "elapsed": 573,
     "status": "ok",
     "timestamp": 1606495651692,
     "user": {
      "displayName": "Naaji Hylton",
      "photoUrl": "https://lh3.googleusercontent.com/a-/AOh14GhoQQN738tSZKk6PrsDI2PEWEy4vqJh3skTDc-w=s64",
      "userId": "12865643465455480001"
     },
     "user_tz": 300
    },
    "id": "NP3mka6Ryg_O",
    "outputId": "27f73218-d8a6-4407-878d-06b5efee035f"
   },
   "outputs": [
    {
     "data": {
      "image/png": "[encoded data removed]",
      "text/plain": [
       "<Figure size 432x288 with 1 Axes>"
      ]
     },
     "metadata": {
      "needs_background": "light",
      "tags": []
     },
     "output_type": "display_data"
    }
   ],
   "source": [
    "# Plot classification lines\n",
    "plt.figure(2)\n",
    "model_weights = list(net.parameters())[0].data.numpy()\n",
    "model_bias = list(net.parameters())[1].data.numpy()\n",
    "plt.scatter(inputs.numpy()[[0, -1], 0], inputs.numpy()[[0, -1], 1], s=50)\n",
    "plt.scatter(inputs.numpy()[[1, 2], 0], inputs.numpy()[[1, 2], 1], c='red', s=50)\n",
    "\n",
    "x_1 = np.arange(-0.1, 1.1, 0.1)\n",
    "y_1 = ((x_1 * model_weights[0, 0]) + model_bias[0]) / (-model_weights[0, 1])\n",
    "plt.plot(x_1, y_1)\n",
    "\n",
    "x_2 = np.arange(-0.1, 1.1, 0.1)\n",
    "y_2 = ((x_2 * model_weights[1, 0]) + model_bias[1]) / (-model_weights[1, 1])\n",
    "plt.plot(x_2, y_2)\n",
    "plt.legend([\"neuron_1\", \"neuron_2\"], loc=8)\n",
    "plt.show()"
   ]
  }
 ],
 "metadata": {
  "colab": {
   "collapsed_sections": [],
   "name": "XOR Neural Network.ipynb",
   "provenance": []
  },
  "kernelspec": {
   "display_name": "Python 3",
   "language": "python",
   "name": "python3"
  },
  "language_info": {
   "codemirror_mode": {
    "name": "ipython",
    "version": 3
   },
   "file_extension": ".py",
   "mimetype": "text/x-python",
   "name": "python",
   "nbconvert_exporter": "python",
   "pygments_lexer": "ipython3",
   "version": "3.8.5"
  }
 },
 "nbformat": 4,
 "nbformat_minor": 1
}
