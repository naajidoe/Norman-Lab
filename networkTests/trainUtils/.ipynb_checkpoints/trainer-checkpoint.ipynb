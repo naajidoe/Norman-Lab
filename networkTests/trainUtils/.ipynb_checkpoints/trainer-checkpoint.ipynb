{
 "cells": [
  {
   "cell_type": "code",
   "execution_count": 1,
   "metadata": {},
   "outputs": [],
   "source": [
    "import numpy as np\n",
    "\n",
    "# trains network\n",
    "def train_network(network, dataset, targets, sequence_length, input_size, batch_size, epochs, optimizer, criterion, sheduler, verbose=True):     \n",
    "    mean_losses = []\n",
    "    for epoch in range(epochs):\n",
    "        losses = []\n",
    "\n",
    "        for sample, target in zip(dataset, targets):\n",
    "            optimizer.zero_grad() \n",
    "            sample = sample.view(batch_size, sequence_length, input_size)\n",
    "\n",
    "            # forward propagation\n",
    "            output = network(sample)  # pass each sample into the network\n",
    "            loss = criterion.forward(output, target)  # forward propagates loss\n",
    "            losses.append(loss)\n",
    "\n",
    "            # backpropagation\n",
    "            loss.backward()  # backpropagates the loss\n",
    "\n",
    "            # gradient descent/adam step\n",
    "            optimizer.step()\n",
    "\n",
    "        mean_loss = sum(losses) / len(losses)  # calculates mean loss for epoch\n",
    "        mean_losses.append(mean_loss)\n",
    "        if verbose:\n",
    "            # sheduler.step(mean_loss)\n",
    "            if epoch in [0, epochs/4, epochs/2, 3*epochs/4, epochs-1]:\n",
    "              print(f'Cost at epoch {epoch} is {mean_loss}')\n",
    "\n",
    "    return np.array(mean_losses)"
   ]
  }
 ],
 "metadata": {
  "kernelspec": {
   "display_name": "Python 3",
   "language": "python",
   "name": "python3"
  },
  "language_info": {
   "codemirror_mode": {
    "name": "ipython",
    "version": 3
   },
   "file_extension": ".py",
   "mimetype": "text/x-python",
   "name": "python",
   "nbconvert_exporter": "python",
   "pygments_lexer": "ipython3",
   "version": "3.8.5"
  }
 },
 "nbformat": 4,
 "nbformat_minor": 4
}
