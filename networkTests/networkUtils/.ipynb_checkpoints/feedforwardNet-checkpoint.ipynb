{
 "cells": [
  {
   "cell_type": "code",
   "execution_count": 1,
   "metadata": {},
   "outputs": [],
   "source": [
    "import torch\n",
    "import random\n",
    "import numpy as np  # numpy\n",
    "import torch.nn as nn  # nn objects\n",
    "import torch.optim as optim  # nn optimizers\n",
    "import matplotlib.pyplot as plt\n",
    "\n",
    "class XORNet(nn.Module):\n",
    "    # input_size = # of attributes put into the input of the nn - creates first layer\n",
    "    # hidden_size = # nodes to have in the 1st hidden layer - too many leads to overfitting\n",
    "    # output_size = # number of neurons to have in the output layer\n",
    "    # need to add hidden layers because there is no linear seperability in single-layer perceptron network\n",
    "\n",
    "    def __init__(self, input_size, hidden_size, output_size):  # in this constructor method we'll define the fully connected layers\n",
    "        super().__init__()  # initializes superclass (nn.Module); could also use super(XORNet, self).__init__()\n",
    "        self.input_layer = nn.Linear(input_size, hidden_size)  # nn.Linear is used when you're doing a fc layers\n",
    "        self.hidden_layer = nn.Linear(hidden_size, output_size)  # nn = input -> hidden layer -> output\n",
    "\n",
    "    def forward(self, x):  # here we have a feedforward nn in which data (i.e. x) goes forward from input to output\n",
    "        x = torch.tanh(self.input_layer(x))  # first, x passes through input layer to hidden layer w/ sigmoid activ\n",
    "        x = self.hidden_layer(x)  # then, x passes through the hidden layer to output layer\n",
    "        return x"
   ]
  },
  {
   "cell_type": "code",
   "execution_count": null,
   "metadata": {},
   "outputs": [],
   "source": []
  }
 ],
 "metadata": {
  "kernelspec": {
   "display_name": "Python 3",
   "language": "python",
   "name": "python3"
  },
  "language_info": {
   "codemirror_mode": {
    "name": "ipython",
    "version": 3
   },
   "file_extension": ".py",
   "mimetype": "text/x-python",
   "name": "python",
   "nbconvert_exporter": "python",
   "pygments_lexer": "ipython3",
   "version": "3.8.5"
  }
 },
 "nbformat": 4,
 "nbformat_minor": 4
}
