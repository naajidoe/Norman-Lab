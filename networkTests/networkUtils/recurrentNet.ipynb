{
 "cells": [
  {
   "cell_type": "code",
   "execution_count": 2,
   "metadata": {},
   "outputs": [],
   "source": [
    "import torch\n",
    "import random\n",
    "import numpy as np  # numpy\n",
    "import torch.nn as nn  # nn objects\n",
    "import torch.optim as optim  # nn optimizers\n",
    "import matplotlib.pyplot as plt\n",
    "device = torch.device('cuda' if torch.cuda.is_available() else 'cpu')\n",
    "\n",
    "# NN model and forward method\n",
    "class RecurrentXORNet(nn.Module):\n",
    "    def __init__(self, input_size, hidden_size, num_layers,\n",
    "                 num_classes, batch_size, random_h0=False):  # define fc/reccurent layers\n",
    "        super().__init__()  # initializes superclass (nn.Module)\n",
    "        self.input_size = input_size\n",
    "        self.hidden_size = hidden_size\n",
    "        self.num_classes = num_classes\n",
    "        self.num_layers = num_layers\n",
    "        self.batch_size = batch_size\n",
    "        self.random_h0 = random_h0\n",
    "        self.rnn = nn.RNN(input_size, hidden_size, num_layers, batch_first=True)\n",
    "        self.fc = nn.Linear(hidden_size, num_classes)  # fc output lyaer\n",
    "        # input must have the sahpe: batch_size, sequence_length, input_size\n",
    "\n",
    "    def forward(self, x): \n",
    "        h0 = torch.zeros(self.num_layers, self.batch_size, self.hidden_size).to(device)\n",
    "        if self.random_h0==True:\n",
    "            h0 = torch.zeros(self.num_layers, self.batch_size, self.hidden_size).to(device)\n",
    "        out, _ = self.rnn(x, h0)  # first, x passes through the recurrent layer\n",
    "        out = out[:, -1, :]  # only last layer of the RNN\n",
    "        out = self.fc(out)  # passes last RNN layer to fc output layer\n",
    "        return out"
   ]
  },
  {
   "cell_type": "code",
   "execution_count": null,
   "metadata": {},
   "outputs": [],
   "source": []
  }
 ],
 "metadata": {
  "kernelspec": {
   "display_name": "Python 3",
   "language": "python",
   "name": "python3"
  },
  "language_info": {
   "codemirror_mode": {
    "name": "ipython",
    "version": 3
   },
   "file_extension": ".py",
   "mimetype": "text/x-python",
   "name": "python",
   "nbconvert_exporter": "python",
   "pygments_lexer": "ipython3",
   "version": "3.8.5"
  }
 },
 "nbformat": 4,
 "nbformat_minor": 4
}
