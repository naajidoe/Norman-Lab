{
 "cells": [
  {
   "cell_type": "code",
   "execution_count": 1,
   "metadata": {},
   "outputs": [],
   "source": [
    "import torch\n",
    "import numpy as np  # numpy\n",
    "\n",
    "# Tests rounded network outputs against correct network outputs based on sample\n",
    "def test_network(sample_number, dataset, targets, network, input_size, batch_size, sequence_length):\n",
    "    # Test network\n",
    "    test_sample = sample_number\n",
    "    test_data = dataset[test_sample].view(batch_size, sequence_length, \n",
    "                                          input_size)\n",
    "    test_targets = torch.tensor([0.0, 0.0])\n",
    "    if targets[test_sample] != 0:\n",
    "        test_targets = torch.tensor([1.0, 0.0])\n",
    "    else:\n",
    "        test_targets = torch.tensor([0.0, 1.0])\n",
    "    test = network(test_data)\n",
    "    test = torch.softmax(test, dim=1)\n",
    "\n",
    "    print(\"\\n\")\n",
    "    print(\"Test of network: \")\n",
    "    print(\"input is {}\".format(test_data.detach().numpy()))\n",
    "    print('out is {}'.format(torch.round(test).detach().numpy()))\n",
    "    print('expected out is {}'.format(test_targets.detach().numpy()))"
   ]
  }
 ],
 "metadata": {
  "kernelspec": {
   "display_name": "Python 3",
   "language": "python",
   "name": "python3"
  },
  "language_info": {
   "codemirror_mode": {
    "name": "ipython",
    "version": 3
   },
   "file_extension": ".py",
   "mimetype": "text/x-python",
   "name": "python",
   "nbconvert_exporter": "python",
   "pygments_lexer": "ipython3",
   "version": "3.8.5"
  }
 },
 "nbformat": 4,
 "nbformat_minor": 4
}
