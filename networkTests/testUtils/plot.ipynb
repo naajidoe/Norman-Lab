{
 "cells": [
  {
   "cell_type": "code",
   "execution_count": null,
   "metadata": {},
   "outputs": [],
   "source": [
    "import matplotlib.pyplot as plt\n",
    "\n",
    "# Compares and plots the loss of four different networks (for testing)\n",
    "def plot_four_losses(title, loss1, loss2, loss3, loss4):\n",
    "    # Plot mean losses\n",
    "    # plt.figure()\n",
    "    plt.suptitle(title)\n",
    "    plt.plot(loss1, color='red')\n",
    "    plt.plot(loss2, color='blue')\n",
    "    plt.plot(loss3, color='orange')\n",
    "    plt.plot(loss4, color='green')\n",
    "    plt.xlabel('epoch')\n",
    "    plt.ylabel('mean loss')"
   ]
  }
 ],
 "metadata": {
  "kernelspec": {
   "display_name": "Python 3",
   "language": "python",
   "name": "python3"
  },
  "language_info": {
   "codemirror_mode": {
    "name": "ipython",
    "version": 3
   },
   "file_extension": ".py",
   "mimetype": "text/x-python",
   "name": "python",
   "nbconvert_exporter": "python",
   "pygments_lexer": "ipython3",
   "version": "3.8.5"
  }
 },
 "nbformat": 4,
 "nbformat_minor": 4
}
